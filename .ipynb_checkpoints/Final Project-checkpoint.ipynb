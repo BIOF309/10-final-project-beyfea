{
 "cells": [
  {
   "cell_type": "markdown",
   "metadata": {},
   "source": [
    "<font color=\"#4590a3\" size = \"6px\"><center>Ligand Preferences of Innate Immune Receptor RIG-I</font></center>\n",
    "<font color=\"#4590a3\" size = \"4px\"><center>Chen Wang</font></center>\n",
    "<font color=\"#4590a3\" size = \"4px\"><center>Rutgers, The State University of New Jersey</font></center>\n",
    "<font color=\"#4590a3\" size = \"4px\"><center>National Institute of Allergy and Infectious Diseases/National Institutes of Health</font></center>"
   ]
  },
  {
   "cell_type": "markdown",
   "metadata": {},
   "source": [
    "<font size = \"4px\">Biochemical Studies of RIG-I in the Presence of 5’OH, 5’ppp, Cap-0 24mer Hairpin (HP) RNAs</font>\n",
    "\n",
    "<table>\n",
    "<tr>\n",
    "    <th>    </th>\n",
    "    <th>WT RIG-I      </th>\n",
    "    </tr>\n",
    "    <tr>\n",
    "        <td>RNA ligand</td>\n",
    "        <td>$K_{d,app}(nM)$</td>\n",
    "        <td>$k_{atpase}$ ($s^{-1}$)</td>\n",
    "    </tr>\n",
    "    <tr>\n",
    "        <td>5'OH HP RNA</td>\n",
    "        <td>38.5 $\\pm$ 4</td>\n",
    "        <td>49 $\\pm$ 1</td>\n",
    "    </tr>\n",
    "    <tr>\n",
    "        <td>5'ppp HP RNA</td>\n",
    "        <td>1.8 $\\pm$ 0.9</td>\n",
    "        <td>33 $\\pm$ 0.9</td>\n",
    "    </tr>\n",
    "    <tr>\n",
    "        <td>Cap-0 HP RNA</td>\n",
    "        <td>1.7 $\\pm$ 0.5</td>\n",
    "        <td>25 $\\pm$ 0.4</td>"
   ]
  },
  {
   "cell_type": "markdown",
   "metadata": {},
   "source": [
    "<font size = \"4px\">Crystal Structures of RIG-I Helicase-RD with 5’OH, 5’ppp, Cap-0 24mer HP RNAs</font>\n"
   ]
  },
  {
   "cell_type": "markdown",
   "metadata": {},
   "source": [
    "![title](Picture1.png)"
   ]
  },
  {
   "cell_type": "markdown",
   "metadata": {},
   "source": []
  },
  {
   "cell_type": "markdown",
   "metadata": {},
   "source": [
    "<font size = \"4px\">Interaction of 2’-OH on First Nucleotide with Histidine 830 (H830)</font>"
   ]
  },
  {
   "cell_type": "markdown",
   "metadata": {},
   "source": [
    "![title](Picture2.png)"
   ]
  },
  {
   "cell_type": "markdown",
   "metadata": {},
   "source": [
    "<table>\n",
    "<tr>\n",
    "    <th>    </th>\n",
    "    <th>WT</th>\n",
    "    <th>RIG-I</th>\n",
    "    <th>H830A</th>\n",
    "    <th>RIG-I</th>\n",
    "    </tr>\n",
    "    <tr>\n",
    "        <td>RNA ligand</td>\n",
    "        <td>$K_{d,app}(nM)$</td>\n",
    "        <td>$k_{atpase}$ ($s^{-1}$)</td>\n",
    "        <td>$K_{d,app}(nM)$</td>\n",
    "        <td>$k_{atpase}$ ($s^{-1}$)</td>\n",
    "    </tr>\n",
    "    <tr>\n",
    "        <td>5'ppp HP RNA</td>\n",
    "        <td>1.8 $\\pm$ 0.9</td>\n",
    "        <td>33 $\\pm$ 0.9</td>\n",
    "        <td>1.6 $\\pm$ 1.9</td>\n",
    "        <td>34 $\\pm$ 1</td>\n",
    "    </tr>\n",
    "    <tr>\n",
    "        <td>5'ppp 2'-OMe HP RNA</td>\n",
    "        <td>40 $\\pm$ 5</td>\n",
    "        <td>12 $\\pm$ 0.4</td>\n",
    "        <td>2.3 $\\pm$ 0.7</td>\n",
    "        <td>32 $\\pm$ 0.5</td>\n",
    "    </tr>\n",
    "    <tr>\n",
    "        <td>Cap-0 HP RNA</td>\n",
    "        <td>1.7 $\\pm$ 0.5</td>\n",
    "        <td>25 $\\pm$ 0.4</td>\n",
    "        <td>1.9 $\\pm$ 0.5</td>\n",
    "        <td>22 $\\pm$ 0.4</td>\n",
    "    </tr>\n",
    "    <tr>\n",
    "        <td>Cap-1 HP RNA</td>\n",
    "        <td>425 $\\pm$ 50</td>\n",
    "        <td>15 $\\pm$ 0.7</td>\n",
    "        <td>9.5 $\\pm$ 2</td>\n",
    "        <td>24 $\\pm$ 0.3</td>"
   ]
  },
  {
   "cell_type": "markdown",
   "metadata": {},
   "source": [
    "<font size = \"5px\">Summary</font> "
   ]
  },
  {
   "cell_type": "markdown",
   "metadata": {},
   "source": [
    "                                                                             \n",
    "\n",
    "<font size = \"4px\">RIG-I recognizes Cap-0 dsRNAs as efficiently as 5′ppp dsRNAs.</font>  \n",
    "<font size = \"4px\">RIG-I accommodates the m7G cap without perturbation of the ppp moiety interactions.</font>  \n",
    "<font size = \"4px\">2’-O-methylation on the first nucleotide of RNA 5’ end is critical for RIG-I discrimination.</font>   \n",
    "<font size = \"4px\">H830 residue is the primary sensor of 2′-O-methylation in Cap-1 dsRNA. </font>"
   ]
  },
  {
   "cell_type": "code",
   "execution_count": null,
   "metadata": {},
   "outputs": [],
   "source": []
  }
 ],
 "metadata": {
  "kernelspec": {
   "display_name": "Python 3",
   "language": "python",
   "name": "python3"
  },
  "language_info": {
   "codemirror_mode": {
    "name": "ipython",
    "version": 3
   },
   "file_extension": ".py",
   "mimetype": "text/x-python",
   "name": "python",
   "nbconvert_exporter": "python",
   "pygments_lexer": "ipython3",
   "version": "3.6.1"
  }
 },
 "nbformat": 4,
 "nbformat_minor": 2
}
